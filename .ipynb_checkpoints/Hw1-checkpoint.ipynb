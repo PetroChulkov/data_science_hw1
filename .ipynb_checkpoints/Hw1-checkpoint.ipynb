{
 "cells": [
  {
   "cell_type": "code",
   "execution_count": 6,
   "id": "9ed01686",
   "metadata": {},
   "outputs": [],
   "source": [
    "import numpy as np\n",
    "import random"
   ]
  },
  {
   "cell_type": "code",
   "execution_count": 7,
   "id": "c4b2b699",
   "metadata": {},
   "outputs": [],
   "source": [
    "#1\n",
    "a = np.array([1, 2, 3, 4, 5, 6, 7, 8, 9, 10])"
   ]
  },
  {
   "cell_type": "code",
   "execution_count": 8,
   "id": "d311c84d",
   "metadata": {},
   "outputs": [
    {
     "data": {
      "text/plain": [
       "array([ 1,  2,  3,  4,  5,  6,  7,  8,  9, 10])"
      ]
     },
     "execution_count": 8,
     "metadata": {},
     "output_type": "execute_result"
    }
   ],
   "source": [
    "a"
   ]
  },
  {
   "cell_type": "code",
   "execution_count": 53,
   "id": "0ab79da2",
   "metadata": {},
   "outputs": [],
   "source": [
    "#2\n",
    "m = np.zeros((3, 3), dtype=int)"
   ]
  },
  {
   "cell_type": "code",
   "execution_count": 54,
   "id": "ba493a4c",
   "metadata": {},
   "outputs": [
    {
     "data": {
      "text/plain": [
       "array([[0, 0, 0],\n",
       "       [0, 0, 0],\n",
       "       [0, 0, 0]])"
      ]
     },
     "execution_count": 54,
     "metadata": {},
     "output_type": "execute_result"
    }
   ],
   "source": [
    "m"
   ]
  },
  {
   "cell_type": "code",
   "execution_count": 17,
   "id": "f73fe9c1",
   "metadata": {},
   "outputs": [],
   "source": [
    "#3\n",
    "m2 = np.random.randint(1, 11, size=(5, 5))"
   ]
  },
  {
   "cell_type": "code",
   "execution_count": 18,
   "id": "8f0ade12",
   "metadata": {},
   "outputs": [
    {
     "data": {
      "text/plain": [
       "array([[ 5,  8,  6,  7, 10],\n",
       "       [ 7,  5,  3,  6,  1],\n",
       "       [ 9, 10,  4,  4,  2],\n",
       "       [10,  8,  3,  7,  6],\n",
       "       [10, 10,  1, 10,  4]])"
      ]
     },
     "execution_count": 18,
     "metadata": {},
     "output_type": "execute_result"
    }
   ],
   "source": [
    "m2"
   ]
  },
  {
   "cell_type": "code",
   "execution_count": 15,
   "id": "5fd18c5f",
   "metadata": {},
   "outputs": [],
   "source": [
    "#4\n",
    "m3 = np.random.random(size=(4, 4))"
   ]
  },
  {
   "cell_type": "code",
   "execution_count": 16,
   "id": "25ea034a",
   "metadata": {},
   "outputs": [
    {
     "data": {
      "text/plain": [
       "array([[0.44586657, 0.19433362, 0.57133055, 0.8748134 ],\n",
       "       [0.36775899, 0.7646266 , 0.38689792, 0.18016791],\n",
       "       [0.60775575, 0.38379019, 0.14271326, 0.84162654],\n",
       "       [0.67862463, 0.53669997, 0.53522145, 0.06994787]])"
      ]
     },
     "execution_count": 16,
     "metadata": {},
     "output_type": "execute_result"
    }
   ],
   "source": [
    "m3"
   ]
  },
  {
   "cell_type": "code",
   "execution_count": 25,
   "id": "49e07ad6",
   "metadata": {},
   "outputs": [],
   "source": [
    "#5\n",
    "b = np.random.randint(1, 11, size=5)\n",
    "c = np.random.randint(1, 11, size=5)"
   ]
  },
  {
   "cell_type": "code",
   "execution_count": 26,
   "id": "50b0851a",
   "metadata": {},
   "outputs": [
    {
     "data": {
      "text/plain": [
       "array([3, 4, 8, 8, 9])"
      ]
     },
     "execution_count": 26,
     "metadata": {},
     "output_type": "execute_result"
    }
   ],
   "source": [
    "b"
   ]
  },
  {
   "cell_type": "code",
   "execution_count": 27,
   "id": "b2a70ca3",
   "metadata": {},
   "outputs": [
    {
     "data": {
      "text/plain": [
       "array([8, 3, 2, 3, 5])"
      ]
     },
     "execution_count": 27,
     "metadata": {},
     "output_type": "execute_result"
    }
   ],
   "source": [
    "c"
   ]
  },
  {
   "cell_type": "code",
   "execution_count": 28,
   "id": "9709e5aa",
   "metadata": {},
   "outputs": [],
   "source": [
    "sum = b + c\n",
    "diff = b - c\n",
    "mult = b * c"
   ]
  },
  {
   "cell_type": "code",
   "execution_count": 29,
   "id": "ef4d31e7",
   "metadata": {},
   "outputs": [
    {
     "data": {
      "text/plain": [
       "array([11,  7, 10, 11, 14])"
      ]
     },
     "execution_count": 29,
     "metadata": {},
     "output_type": "execute_result"
    }
   ],
   "source": [
    "sum"
   ]
  },
  {
   "cell_type": "code",
   "execution_count": 30,
   "id": "090cd8eb",
   "metadata": {},
   "outputs": [
    {
     "data": {
      "text/plain": [
       "array([-5,  1,  6,  5,  4])"
      ]
     },
     "execution_count": 30,
     "metadata": {},
     "output_type": "execute_result"
    }
   ],
   "source": [
    "diff"
   ]
  },
  {
   "cell_type": "code",
   "execution_count": 31,
   "id": "cf157e4e",
   "metadata": {
    "scrolled": true
   },
   "outputs": [
    {
     "data": {
      "text/plain": [
       "array([24, 12, 16, 24, 45])"
      ]
     },
     "execution_count": 31,
     "metadata": {},
     "output_type": "execute_result"
    }
   ],
   "source": [
    "mult"
   ]
  },
  {
   "cell_type": "code",
   "execution_count": 32,
   "id": "8d4f0d7d",
   "metadata": {},
   "outputs": [],
   "source": [
    "#6\n",
    "d = np.random.randint(1, 11, size=7)\n",
    "e = np.random.randint(1, 11, size=7)"
   ]
  },
  {
   "cell_type": "code",
   "execution_count": 43,
   "id": "28e233f6",
   "metadata": {},
   "outputs": [
    {
     "data": {
      "text/plain": [
       "array([7, 6, 1, 8, 3, 3, 4])"
      ]
     },
     "execution_count": 43,
     "metadata": {},
     "output_type": "execute_result"
    }
   ],
   "source": [
    "d"
   ]
  },
  {
   "cell_type": "code",
   "execution_count": 44,
   "id": "3ee1abcc",
   "metadata": {},
   "outputs": [
    {
     "data": {
      "text/plain": [
       "array([5, 3, 5, 9, 2, 2, 5])"
      ]
     },
     "execution_count": 44,
     "metadata": {},
     "output_type": "execute_result"
    }
   ],
   "source": [
    "e"
   ]
  },
  {
   "cell_type": "code",
   "execution_count": 33,
   "id": "bb348d51",
   "metadata": {},
   "outputs": [
    {
     "data": {
      "text/plain": [
       "162"
      ]
     },
     "execution_count": 33,
     "metadata": {},
     "output_type": "execute_result"
    }
   ],
   "source": [
    "np.dot(d, e)"
   ]
  },
  {
   "cell_type": "code",
   "execution_count": 34,
   "id": "3c611984",
   "metadata": {},
   "outputs": [],
   "source": [
    "#7\n",
    "m4 = np.random.randint(1, 11, size=(2, 2))\n",
    "m5 = np.random.randint(1, 11, size=(2, 3))"
   ]
  },
  {
   "cell_type": "code",
   "execution_count": 39,
   "id": "a152b1b9",
   "metadata": {},
   "outputs": [
    {
     "data": {
      "text/plain": [
       "array([[9, 3],\n",
       "       [6, 8]])"
      ]
     },
     "execution_count": 39,
     "metadata": {},
     "output_type": "execute_result"
    }
   ],
   "source": [
    "m4"
   ]
  },
  {
   "cell_type": "code",
   "execution_count": 40,
   "id": "3d623be2",
   "metadata": {},
   "outputs": [
    {
     "data": {
      "text/plain": [
       "array([[3, 7, 1],\n",
       "       [4, 5, 5]])"
      ]
     },
     "execution_count": 40,
     "metadata": {},
     "output_type": "execute_result"
    }
   ],
   "source": [
    "m5"
   ]
  },
  {
   "cell_type": "code",
   "execution_count": 41,
   "id": "fff90c47",
   "metadata": {},
   "outputs": [
    {
     "data": {
      "text/plain": [
       "array([[39, 78, 24],\n",
       "       [50, 82, 46]])"
      ]
     },
     "execution_count": 41,
     "metadata": {},
     "output_type": "execute_result"
    }
   ],
   "source": [
    "np.dot(m4, m5)"
   ]
  },
  {
   "cell_type": "code",
   "execution_count": 42,
   "id": "41997586",
   "metadata": {},
   "outputs": [],
   "source": [
    "#8\n",
    "m6 = np.random.randint(1, 11, size=(3, 3))"
   ]
  },
  {
   "cell_type": "code",
   "execution_count": 45,
   "id": "891a6ec0",
   "metadata": {},
   "outputs": [
    {
     "data": {
      "text/plain": [
       "array([[4, 7, 5],\n",
       "       [1, 1, 4],\n",
       "       [7, 9, 7]])"
      ]
     },
     "execution_count": 45,
     "metadata": {},
     "output_type": "execute_result"
    }
   ],
   "source": [
    "m6"
   ]
  },
  {
   "cell_type": "code",
   "execution_count": 47,
   "id": "6868d4bd",
   "metadata": {},
   "outputs": [],
   "source": [
    "m6_inv = np.linalg.inv(m6)"
   ]
  },
  {
   "cell_type": "code",
   "execution_count": 48,
   "id": "c6913b45",
   "metadata": {},
   "outputs": [
    {
     "data": {
      "text/plain": [
       "array([[-0.70731707, -0.09756098,  0.56097561],\n",
       "       [ 0.51219512, -0.17073171, -0.26829268],\n",
       "       [ 0.04878049,  0.31707317, -0.07317073]])"
      ]
     },
     "execution_count": 48,
     "metadata": {},
     "output_type": "execute_result"
    }
   ],
   "source": [
    "m6_inv"
   ]
  },
  {
   "cell_type": "code",
   "execution_count": 49,
   "id": "a1ef434d",
   "metadata": {},
   "outputs": [],
   "source": [
    "#9\n",
    "m7 = np.random.random(size=(4, 4))"
   ]
  },
  {
   "cell_type": "code",
   "execution_count": 50,
   "id": "72498ca1",
   "metadata": {},
   "outputs": [
    {
     "data": {
      "text/plain": [
       "array([[0.90252672, 0.83501008, 0.77727996, 0.17615153],\n",
       "       [0.78510121, 0.55861671, 0.62520018, 0.65954005],\n",
       "       [0.1385951 , 0.78380145, 0.69872475, 0.27647863],\n",
       "       [0.50032113, 0.69818557, 0.44182978, 0.24054412]])"
      ]
     },
     "execution_count": 50,
     "metadata": {},
     "output_type": "execute_result"
    }
   ],
   "source": [
    "m7"
   ]
  },
  {
   "cell_type": "code",
   "execution_count": 51,
   "id": "a53f80e8",
   "metadata": {},
   "outputs": [],
   "source": [
    "m7_T=m7.T"
   ]
  },
  {
   "cell_type": "code",
   "execution_count": 52,
   "id": "71f79342",
   "metadata": {},
   "outputs": [
    {
     "data": {
      "text/plain": [
       "array([[0.90252672, 0.78510121, 0.1385951 , 0.50032113],\n",
       "       [0.83501008, 0.55861671, 0.78380145, 0.69818557],\n",
       "       [0.77727996, 0.62520018, 0.69872475, 0.44182978],\n",
       "       [0.17615153, 0.65954005, 0.27647863, 0.24054412]])"
      ]
     },
     "execution_count": 52,
     "metadata": {},
     "output_type": "execute_result"
    }
   ],
   "source": [
    "m7_T"
   ]
  },
  {
   "cell_type": "code",
   "execution_count": 66,
   "id": "d13cccad",
   "metadata": {},
   "outputs": [],
   "source": [
    "#10\n",
    "m8 = np.random.randint(1, 11, size=(3, 4))\n",
    "f = np.random.randint(1, 11, size=4)"
   ]
  },
  {
   "cell_type": "code",
   "execution_count": 67,
   "id": "df1da35b",
   "metadata": {},
   "outputs": [
    {
     "data": {
      "text/plain": [
       "array([[7, 4, 1, 6],\n",
       "       [9, 6, 1, 3],\n",
       "       [4, 7, 6, 6]])"
      ]
     },
     "execution_count": 67,
     "metadata": {},
     "output_type": "execute_result"
    }
   ],
   "source": [
    "m8"
   ]
  },
  {
   "cell_type": "code",
   "execution_count": 68,
   "id": "4dfb5381",
   "metadata": {},
   "outputs": [
    {
     "data": {
      "text/plain": [
       "array([10,  6,  1,  6])"
      ]
     },
     "execution_count": 68,
     "metadata": {},
     "output_type": "execute_result"
    }
   ],
   "source": [
    "f"
   ]
  },
  {
   "cell_type": "code",
   "execution_count": 69,
   "id": "5a79d6bd",
   "metadata": {},
   "outputs": [
    {
     "data": {
      "text/plain": [
       "array([131, 145, 124])"
      ]
     },
     "execution_count": 69,
     "metadata": {},
     "output_type": "execute_result"
    }
   ],
   "source": [
    "np.dot(m8, f)"
   ]
  },
  {
   "cell_type": "code",
   "execution_count": 70,
   "id": "274f39a0",
   "metadata": {},
   "outputs": [],
   "source": [
    "#11\n",
    "m9 = np.random.random(size=(2, 3))\n",
    "g = np.random.random(size=3)"
   ]
  },
  {
   "cell_type": "code",
   "execution_count": 73,
   "id": "bac60929",
   "metadata": {},
   "outputs": [
    {
     "data": {
      "text/plain": [
       "array([[0.44112463, 0.81513611, 0.46742648],\n",
       "       [0.35950079, 0.79221699, 0.70582094]])"
      ]
     },
     "execution_count": 73,
     "metadata": {},
     "output_type": "execute_result"
    }
   ],
   "source": [
    "m9"
   ]
  },
  {
   "cell_type": "code",
   "execution_count": 72,
   "id": "ec3a4b6f",
   "metadata": {},
   "outputs": [
    {
     "data": {
      "text/plain": [
       "array([0.98073537, 0.30307932, 0.07272651])"
      ]
     },
     "execution_count": 72,
     "metadata": {},
     "output_type": "execute_result"
    }
   ],
   "source": [
    "g"
   ]
  },
  {
   "cell_type": "code",
   "execution_count": 74,
   "id": "56ec7d7b",
   "metadata": {},
   "outputs": [
    {
     "data": {
      "text/plain": [
       "array([0.71367172, 0.64401162])"
      ]
     },
     "execution_count": 74,
     "metadata": {},
     "output_type": "execute_result"
    }
   ],
   "source": [
    "np.dot(m9, g)"
   ]
  },
  {
   "cell_type": "code",
   "execution_count": 75,
   "id": "a91833e9",
   "metadata": {},
   "outputs": [],
   "source": [
    "#12\n",
    "m10 = np.random.randint(1, 11, size=(2, 2))\n",
    "m11 = np.random.randint(1, 11, size=(2, 2))"
   ]
  },
  {
   "cell_type": "code",
   "execution_count": 76,
   "id": "993a8ba7",
   "metadata": {},
   "outputs": [
    {
     "data": {
      "text/plain": [
       "array([[6, 3],\n",
       "       [9, 8]])"
      ]
     },
     "execution_count": 76,
     "metadata": {},
     "output_type": "execute_result"
    }
   ],
   "source": [
    "m10"
   ]
  },
  {
   "cell_type": "code",
   "execution_count": 77,
   "id": "1648313c",
   "metadata": {},
   "outputs": [
    {
     "data": {
      "text/plain": [
       "array([[4, 3],\n",
       "       [6, 8]])"
      ]
     },
     "execution_count": 77,
     "metadata": {},
     "output_type": "execute_result"
    }
   ],
   "source": [
    "m11"
   ]
  },
  {
   "cell_type": "code",
   "execution_count": 78,
   "id": "464d8001",
   "metadata": {},
   "outputs": [
    {
     "data": {
      "text/plain": [
       "array([[24,  9],\n",
       "       [54, 64]])"
      ]
     },
     "execution_count": 78,
     "metadata": {},
     "output_type": "execute_result"
    }
   ],
   "source": [
    "np.multiply(m10, m11)"
   ]
  },
  {
   "cell_type": "code",
   "execution_count": 79,
   "id": "a9f2e1b6",
   "metadata": {},
   "outputs": [],
   "source": [
    "#13\n",
    "m12 = np.random.randint(1, 11, size=(2, 2))\n",
    "m13 = np.random.randint(1, 11, size=(2, 2))"
   ]
  },
  {
   "cell_type": "code",
   "execution_count": 80,
   "id": "e3fb38ed",
   "metadata": {},
   "outputs": [
    {
     "data": {
      "text/plain": [
       "array([[9, 4],\n",
       "       [1, 6]])"
      ]
     },
     "execution_count": 80,
     "metadata": {},
     "output_type": "execute_result"
    }
   ],
   "source": [
    "m12"
   ]
  },
  {
   "cell_type": "code",
   "execution_count": 81,
   "id": "4a831ab6",
   "metadata": {},
   "outputs": [
    {
     "data": {
      "text/plain": [
       "array([[2, 6],\n",
       "       [4, 8]])"
      ]
     },
     "execution_count": 81,
     "metadata": {},
     "output_type": "execute_result"
    }
   ],
   "source": [
    "m13"
   ]
  },
  {
   "cell_type": "code",
   "execution_count": 82,
   "id": "e59f3c5c",
   "metadata": {},
   "outputs": [
    {
     "data": {
      "text/plain": [
       "array([[34, 86],\n",
       "       [26, 54]])"
      ]
     },
     "execution_count": 82,
     "metadata": {},
     "output_type": "execute_result"
    }
   ],
   "source": [
    "np.dot(m12, m13)"
   ]
  },
  {
   "cell_type": "code",
   "execution_count": 83,
   "id": "8f5d3ae1",
   "metadata": {},
   "outputs": [],
   "source": [
    "#14\n",
    "m14 = np.random.randint(1, 101, size=(5, 5))"
   ]
  },
  {
   "cell_type": "code",
   "execution_count": 84,
   "id": "6672ab5e",
   "metadata": {},
   "outputs": [
    {
     "data": {
      "text/plain": [
       "array([[23, 11, 72, 33, 88],\n",
       "       [17, 10,  6, 40, 24],\n",
       "       [67, 65, 95, 21, 60],\n",
       "       [79, 99, 64, 72, 51],\n",
       "       [49, 57, 31, 70, 51]])"
      ]
     },
     "execution_count": 84,
     "metadata": {},
     "output_type": "execute_result"
    }
   ],
   "source": [
    "m14"
   ]
  },
  {
   "cell_type": "code",
   "execution_count": 85,
   "id": "7fc9e279",
   "metadata": {},
   "outputs": [
    {
     "data": {
      "text/plain": [
       "1255"
      ]
     },
     "execution_count": 85,
     "metadata": {},
     "output_type": "execute_result"
    }
   ],
   "source": [
    "np.sum(m14)"
   ]
  },
  {
   "cell_type": "code",
   "execution_count": 86,
   "id": "a589061d",
   "metadata": {},
   "outputs": [],
   "source": [
    "#15\n",
    "m15 = np.random.randint(1, 11, size=(4, 4))\n",
    "m16 = np.random.randint(1, 11, size=(4, 4))"
   ]
  },
  {
   "cell_type": "code",
   "execution_count": 87,
   "id": "b15fb81f",
   "metadata": {},
   "outputs": [
    {
     "data": {
      "text/plain": [
       "array([[ 3,  4,  8,  3],\n",
       "       [ 3,  1,  2, 10],\n",
       "       [ 2,  6,  5,  6],\n",
       "       [ 3, 10, 10,  7]])"
      ]
     },
     "execution_count": 87,
     "metadata": {},
     "output_type": "execute_result"
    }
   ],
   "source": [
    "m15"
   ]
  },
  {
   "cell_type": "code",
   "execution_count": 88,
   "id": "ca45604e",
   "metadata": {},
   "outputs": [
    {
     "data": {
      "text/plain": [
       "array([[3, 6, 1, 2],\n",
       "       [5, 1, 2, 6],\n",
       "       [4, 8, 6, 9],\n",
       "       [6, 6, 9, 1]])"
      ]
     },
     "execution_count": 88,
     "metadata": {},
     "output_type": "execute_result"
    }
   ],
   "source": [
    "m16"
   ]
  },
  {
   "cell_type": "code",
   "execution_count": 90,
   "id": "b1c00d6e",
   "metadata": {},
   "outputs": [
    {
     "data": {
      "text/plain": [
       "array([[ 0, -2,  7,  1],\n",
       "       [-2,  0,  0,  4],\n",
       "       [-2, -2, -1, -3],\n",
       "       [-3,  4,  1,  6]])"
      ]
     },
     "execution_count": 90,
     "metadata": {},
     "output_type": "execute_result"
    }
   ],
   "source": [
    "m15 - m16\n"
   ]
  },
  {
   "cell_type": "code",
   "execution_count": 91,
   "id": "7386f51d",
   "metadata": {},
   "outputs": [],
   "source": [
    "#16\n",
    "m17 = np.random.random(size=(3, 3))"
   ]
  },
  {
   "cell_type": "code",
   "execution_count": 92,
   "id": "a47a7dc5",
   "metadata": {},
   "outputs": [
    {
     "data": {
      "text/plain": [
       "array([[0.34421508, 0.71489143, 0.90488005],\n",
       "       [0.35360792, 0.09449936, 0.2101843 ],\n",
       "       [0.28798578, 0.72046221, 0.0243922 ]])"
      ]
     },
     "execution_count": 92,
     "metadata": {},
     "output_type": "execute_result"
    }
   ],
   "source": [
    "m17"
   ]
  },
  {
   "cell_type": "code",
   "execution_count": 100,
   "id": "11ae88c6",
   "metadata": {},
   "outputs": [],
   "source": [
    "sum2 = np.sum(m17, axis=1)"
   ]
  },
  {
   "cell_type": "code",
   "execution_count": 104,
   "id": "79e7bd5b",
   "metadata": {},
   "outputs": [
    {
     "data": {
      "text/plain": [
       "array([1.96398655, 0.65829158, 1.03284018])"
      ]
     },
     "execution_count": 104,
     "metadata": {},
     "output_type": "execute_result"
    }
   ],
   "source": [
    "sum2"
   ]
  },
  {
   "cell_type": "code",
   "execution_count": 108,
   "id": "6abeb2ab",
   "metadata": {},
   "outputs": [
    {
     "data": {
      "text/plain": [
       "array([[1.96398655],\n",
       "       [0.65829158],\n",
       "       [1.03284018]])"
      ]
     },
     "execution_count": 108,
     "metadata": {},
     "output_type": "execute_result"
    }
   ],
   "source": [
    "sum2.reshape(3, 1)"
   ]
  },
  {
   "cell_type": "code",
   "execution_count": 109,
   "id": "b9484ff4",
   "metadata": {},
   "outputs": [],
   "source": [
    "#17\n",
    "m18 = np.random.randint(1, 11, size=(3, 4))"
   ]
  },
  {
   "cell_type": "code",
   "execution_count": 110,
   "id": "45c91db5",
   "metadata": {},
   "outputs": [
    {
     "data": {
      "text/plain": [
       "array([[ 5,  9,  2,  5],\n",
       "       [ 9,  3,  5,  4],\n",
       "       [ 3,  9,  2, 10]])"
      ]
     },
     "execution_count": 110,
     "metadata": {},
     "output_type": "execute_result"
    }
   ],
   "source": [
    "m18\n"
   ]
  },
  {
   "cell_type": "code",
   "execution_count": 111,
   "id": "75be7358",
   "metadata": {},
   "outputs": [
    {
     "data": {
      "text/plain": [
       "array([[ 25,  81,   4,  25],\n",
       "       [ 81,   9,  25,  16],\n",
       "       [  9,  81,   4, 100]])"
      ]
     },
     "execution_count": 111,
     "metadata": {},
     "output_type": "execute_result"
    }
   ],
   "source": [
    "m18 ** 2"
   ]
  },
  {
   "cell_type": "code",
   "execution_count": 112,
   "id": "51349368",
   "metadata": {},
   "outputs": [],
   "source": [
    "#18\n",
    "h = np.random.randint(1, 51, size=4)"
   ]
  },
  {
   "cell_type": "code",
   "execution_count": 113,
   "id": "842aea4a",
   "metadata": {},
   "outputs": [
    {
     "data": {
      "text/plain": [
       "array([14,  5, 20,  3])"
      ]
     },
     "execution_count": 113,
     "metadata": {},
     "output_type": "execute_result"
    }
   ],
   "source": [
    "h"
   ]
  },
  {
   "cell_type": "code",
   "execution_count": 114,
   "id": "5bcec929",
   "metadata": {},
   "outputs": [
    {
     "data": {
      "text/plain": [
       "array([196,  25, 400,   9])"
      ]
     },
     "execution_count": 114,
     "metadata": {},
     "output_type": "execute_result"
    }
   ],
   "source": [
    "h ** 2"
   ]
  },
  {
   "cell_type": "code",
   "execution_count": null,
   "id": "ad485cb6",
   "metadata": {},
   "outputs": [],
   "source": []
  }
 ],
 "metadata": {
  "kernelspec": {
   "display_name": "Python 3 (ipykernel)",
   "language": "python",
   "name": "python3"
  },
  "language_info": {
   "codemirror_mode": {
    "name": "ipython",
    "version": 3
   },
   "file_extension": ".py",
   "mimetype": "text/x-python",
   "name": "python",
   "nbconvert_exporter": "python",
   "pygments_lexer": "ipython3",
   "version": "3.10.7"
  }
 },
 "nbformat": 4,
 "nbformat_minor": 5
}
