{
 "cells": [
  {
   "cell_type": "code",
   "execution_count": 4,
   "id": "9ed01686",
   "metadata": {},
   "outputs": [],
   "source": [
    "import numpy as np\n",
    "import random"
   ]
  },
  {
   "cell_type": "code",
   "execution_count": 5,
   "id": "c4b2b699",
   "metadata": {},
   "outputs": [],
   "source": [
    "#1\n",
    "a = np.array([1, 2, 3, 4, 5, 6, 7, 8, 9, 10])"
   ]
  },
  {
   "cell_type": "code",
   "execution_count": 6,
   "id": "d311c84d",
   "metadata": {},
   "outputs": [
    {
     "data": {
      "text/plain": [
       "array([ 1,  2,  3,  4,  5,  6,  7,  8,  9, 10])"
      ]
     },
     "execution_count": 6,
     "metadata": {},
     "output_type": "execute_result"
    }
   ],
   "source": [
    "a"
   ]
  },
  {
   "cell_type": "code",
   "execution_count": 7,
   "id": "0ab79da2",
   "metadata": {},
   "outputs": [],
   "source": [
    "#2\n",
    "m = np.zeros((3, 3), dtype=int)"
   ]
  },
  {
   "cell_type": "code",
   "execution_count": 8,
   "id": "ba493a4c",
   "metadata": {},
   "outputs": [
    {
     "data": {
      "text/plain": [
       "array([[0, 0, 0],\n",
       "       [0, 0, 0],\n",
       "       [0, 0, 0]])"
      ]
     },
     "execution_count": 8,
     "metadata": {},
     "output_type": "execute_result"
    }
   ],
   "source": [
    "m"
   ]
  },
  {
   "cell_type": "code",
   "execution_count": 9,
   "id": "f73fe9c1",
   "metadata": {},
   "outputs": [],
   "source": [
    "#3\n",
    "m2 = np.random.randint(1, 11, size=(5, 5))"
   ]
  },
  {
   "cell_type": "code",
   "execution_count": 10,
   "id": "8f0ade12",
   "metadata": {},
   "outputs": [
    {
     "data": {
      "text/plain": [
       "array([[10,  5, 10,  4,  6],\n",
       "       [ 2,  7,  5,  7, 10],\n",
       "       [ 2,  6,  5,  1,  9],\n",
       "       [ 6,  7,  9,  1, 10],\n",
       "       [ 1,  3,  2,  3, 10]])"
      ]
     },
     "execution_count": 10,
     "metadata": {},
     "output_type": "execute_result"
    }
   ],
   "source": [
    "m2"
   ]
  },
  {
   "cell_type": "code",
   "execution_count": 11,
   "id": "5fd18c5f",
   "metadata": {},
   "outputs": [],
   "source": [
    "#4\n",
    "m3 = np.random.random(size=(4, 4))"
   ]
  },
  {
   "cell_type": "code",
   "execution_count": 12,
   "id": "25ea034a",
   "metadata": {},
   "outputs": [
    {
     "data": {
      "text/plain": [
       "array([[0.92978099, 0.83252272, 0.79140272, 0.41319295],\n",
       "       [0.69329397, 0.11366491, 0.29473604, 0.23156703],\n",
       "       [0.23419322, 0.04147328, 0.62868766, 0.523165  ],\n",
       "       [0.24877087, 0.25761103, 0.30196196, 0.26262106]])"
      ]
     },
     "execution_count": 12,
     "metadata": {},
     "output_type": "execute_result"
    }
   ],
   "source": [
    "m3"
   ]
  },
  {
   "cell_type": "code",
   "execution_count": 13,
   "id": "49e07ad6",
   "metadata": {},
   "outputs": [],
   "source": [
    "#5\n",
    "b = np.random.randint(1, 11, size=5)\n",
    "c = np.random.randint(1, 11, size=5)"
   ]
  },
  {
   "cell_type": "code",
   "execution_count": 14,
   "id": "50b0851a",
   "metadata": {},
   "outputs": [
    {
     "data": {
      "text/plain": [
       "array([3, 5, 9, 4, 1])"
      ]
     },
     "execution_count": 14,
     "metadata": {},
     "output_type": "execute_result"
    }
   ],
   "source": [
    "b"
   ]
  },
  {
   "cell_type": "code",
   "execution_count": 15,
   "id": "b2a70ca3",
   "metadata": {},
   "outputs": [
    {
     "data": {
      "text/plain": [
       "array([ 3,  5,  3, 10, 10])"
      ]
     },
     "execution_count": 15,
     "metadata": {},
     "output_type": "execute_result"
    }
   ],
   "source": [
    "c"
   ]
  },
  {
   "cell_type": "code",
   "execution_count": 16,
   "id": "9709e5aa",
   "metadata": {},
   "outputs": [],
   "source": [
    "sum = b + c\n",
    "diff = b - c\n",
    "mult = b * c"
   ]
  },
  {
   "cell_type": "code",
   "execution_count": 17,
   "id": "ef4d31e7",
   "metadata": {},
   "outputs": [
    {
     "data": {
      "text/plain": [
       "array([ 6, 10, 12, 14, 11])"
      ]
     },
     "execution_count": 17,
     "metadata": {},
     "output_type": "execute_result"
    }
   ],
   "source": [
    "sum"
   ]
  },
  {
   "cell_type": "code",
   "execution_count": 18,
   "id": "090cd8eb",
   "metadata": {},
   "outputs": [
    {
     "data": {
      "text/plain": [
       "array([ 0,  0,  6, -6, -9])"
      ]
     },
     "execution_count": 18,
     "metadata": {},
     "output_type": "execute_result"
    }
   ],
   "source": [
    "diff"
   ]
  },
  {
   "cell_type": "code",
   "execution_count": 19,
   "id": "cf157e4e",
   "metadata": {
    "scrolled": true
   },
   "outputs": [
    {
     "data": {
      "text/plain": [
       "array([ 9, 25, 27, 40, 10])"
      ]
     },
     "execution_count": 19,
     "metadata": {},
     "output_type": "execute_result"
    }
   ],
   "source": [
    "mult"
   ]
  },
  {
   "cell_type": "code",
   "execution_count": 20,
   "id": "8d4f0d7d",
   "metadata": {},
   "outputs": [],
   "source": [
    "#6\n",
    "d = np.random.randint(1, 11, size=7)\n",
    "e = np.random.randint(1, 11, size=7)"
   ]
  },
  {
   "cell_type": "code",
   "execution_count": 21,
   "id": "28e233f6",
   "metadata": {},
   "outputs": [
    {
     "data": {
      "text/plain": [
       "array([ 4, 10,  8,  5,  3, 10,  6])"
      ]
     },
     "execution_count": 21,
     "metadata": {},
     "output_type": "execute_result"
    }
   ],
   "source": [
    "d"
   ]
  },
  {
   "cell_type": "code",
   "execution_count": 22,
   "id": "3ee1abcc",
   "metadata": {},
   "outputs": [
    {
     "data": {
      "text/plain": [
       "array([ 6,  5, 10, 10,  9,  7,  9])"
      ]
     },
     "execution_count": 22,
     "metadata": {},
     "output_type": "execute_result"
    }
   ],
   "source": [
    "e"
   ]
  },
  {
   "cell_type": "code",
   "execution_count": 23,
   "id": "bb348d51",
   "metadata": {},
   "outputs": [
    {
     "data": {
      "text/plain": [
       "355"
      ]
     },
     "execution_count": 23,
     "metadata": {},
     "output_type": "execute_result"
    }
   ],
   "source": [
    "np.dot(d, e)"
   ]
  },
  {
   "cell_type": "code",
   "execution_count": 24,
   "id": "3c611984",
   "metadata": {},
   "outputs": [],
   "source": [
    "#7\n",
    "m4 = np.random.randint(1, 11, size=(2, 2))\n",
    "m5 = np.random.randint(1, 11, size=(2, 3))"
   ]
  },
  {
   "cell_type": "code",
   "execution_count": 25,
   "id": "a152b1b9",
   "metadata": {},
   "outputs": [
    {
     "data": {
      "text/plain": [
       "array([[4, 7],\n",
       "       [1, 6]])"
      ]
     },
     "execution_count": 25,
     "metadata": {},
     "output_type": "execute_result"
    }
   ],
   "source": [
    "m4"
   ]
  },
  {
   "cell_type": "code",
   "execution_count": 26,
   "id": "3d623be2",
   "metadata": {},
   "outputs": [
    {
     "data": {
      "text/plain": [
       "array([[7, 2, 4],\n",
       "       [1, 4, 6]])"
      ]
     },
     "execution_count": 26,
     "metadata": {},
     "output_type": "execute_result"
    }
   ],
   "source": [
    "m5"
   ]
  },
  {
   "cell_type": "code",
   "execution_count": 27,
   "id": "fff90c47",
   "metadata": {},
   "outputs": [
    {
     "data": {
      "text/plain": [
       "array([[35, 36, 58],\n",
       "       [13, 26, 40]])"
      ]
     },
     "execution_count": 27,
     "metadata": {},
     "output_type": "execute_result"
    }
   ],
   "source": [
    "np.dot(m4, m5)"
   ]
  },
  {
   "cell_type": "code",
   "execution_count": 28,
   "id": "41997586",
   "metadata": {},
   "outputs": [],
   "source": [
    "#8\n",
    "m6 = np.random.randint(1, 11, size=(3, 3))"
   ]
  },
  {
   "cell_type": "code",
   "execution_count": 29,
   "id": "891a6ec0",
   "metadata": {},
   "outputs": [
    {
     "data": {
      "text/plain": [
       "array([[1, 4, 5],\n",
       "       [2, 3, 1],\n",
       "       [5, 4, 7]])"
      ]
     },
     "execution_count": 29,
     "metadata": {},
     "output_type": "execute_result"
    }
   ],
   "source": [
    "m6"
   ]
  },
  {
   "cell_type": "code",
   "execution_count": 30,
   "id": "6868d4bd",
   "metadata": {},
   "outputs": [],
   "source": [
    "m6_inv = np.linalg.inv(m6)"
   ]
  },
  {
   "cell_type": "code",
   "execution_count": 31,
   "id": "c6913b45",
   "metadata": {},
   "outputs": [
    {
     "data": {
      "text/plain": [
       "array([[-0.31481481,  0.14814815,  0.2037037 ],\n",
       "       [ 0.16666667,  0.33333333, -0.16666667],\n",
       "       [ 0.12962963, -0.2962963 ,  0.09259259]])"
      ]
     },
     "execution_count": 31,
     "metadata": {},
     "output_type": "execute_result"
    }
   ],
   "source": [
    "m6_inv"
   ]
  },
  {
   "cell_type": "code",
   "execution_count": 32,
   "id": "a1ef434d",
   "metadata": {},
   "outputs": [],
   "source": [
    "#9\n",
    "m7 = np.random.random(size=(4, 4))"
   ]
  },
  {
   "cell_type": "code",
   "execution_count": 33,
   "id": "72498ca1",
   "metadata": {},
   "outputs": [
    {
     "data": {
      "text/plain": [
       "array([[0.501431  , 0.38840486, 0.08581606, 0.21580142],\n",
       "       [0.14906572, 0.24712076, 0.17485507, 0.02971772],\n",
       "       [0.86898184, 0.3638251 , 0.62717545, 0.72963548],\n",
       "       [0.01428987, 0.64497404, 0.31508197, 0.00741989]])"
      ]
     },
     "execution_count": 33,
     "metadata": {},
     "output_type": "execute_result"
    }
   ],
   "source": [
    "m7"
   ]
  },
  {
   "cell_type": "code",
   "execution_count": 34,
   "id": "a53f80e8",
   "metadata": {},
   "outputs": [],
   "source": [
    "m7_T=m7.T"
   ]
  },
  {
   "cell_type": "code",
   "execution_count": 35,
   "id": "71f79342",
   "metadata": {},
   "outputs": [
    {
     "data": {
      "text/plain": [
       "array([[0.501431  , 0.14906572, 0.86898184, 0.01428987],\n",
       "       [0.38840486, 0.24712076, 0.3638251 , 0.64497404],\n",
       "       [0.08581606, 0.17485507, 0.62717545, 0.31508197],\n",
       "       [0.21580142, 0.02971772, 0.72963548, 0.00741989]])"
      ]
     },
     "execution_count": 35,
     "metadata": {},
     "output_type": "execute_result"
    }
   ],
   "source": [
    "m7_T"
   ]
  },
  {
   "cell_type": "code",
   "execution_count": 36,
   "id": "d13cccad",
   "metadata": {},
   "outputs": [],
   "source": [
    "#10\n",
    "m8 = np.random.randint(1, 11, size=(3, 4))\n",
    "f = np.random.randint(1, 11, size=4)"
   ]
  },
  {
   "cell_type": "code",
   "execution_count": 37,
   "id": "df1da35b",
   "metadata": {},
   "outputs": [
    {
     "data": {
      "text/plain": [
       "array([[5, 5, 7, 7],\n",
       "       [2, 3, 8, 1],\n",
       "       [7, 6, 6, 7]])"
      ]
     },
     "execution_count": 37,
     "metadata": {},
     "output_type": "execute_result"
    }
   ],
   "source": [
    "m8"
   ]
  },
  {
   "cell_type": "code",
   "execution_count": 38,
   "id": "4dfb5381",
   "metadata": {},
   "outputs": [
    {
     "data": {
      "text/plain": [
       "array([8, 1, 7, 5])"
      ]
     },
     "execution_count": 38,
     "metadata": {},
     "output_type": "execute_result"
    }
   ],
   "source": [
    "f"
   ]
  },
  {
   "cell_type": "code",
   "execution_count": 39,
   "id": "5a79d6bd",
   "metadata": {},
   "outputs": [
    {
     "data": {
      "text/plain": [
       "array([129,  80, 139])"
      ]
     },
     "execution_count": 39,
     "metadata": {},
     "output_type": "execute_result"
    }
   ],
   "source": [
    "np.dot(m8, f)"
   ]
  },
  {
   "cell_type": "code",
   "execution_count": 40,
   "id": "274f39a0",
   "metadata": {},
   "outputs": [],
   "source": [
    "#11\n",
    "m9 = np.random.random(size=(2, 3))\n",
    "g = np.random.random(size=3)"
   ]
  },
  {
   "cell_type": "code",
   "execution_count": 41,
   "id": "bac60929",
   "metadata": {},
   "outputs": [
    {
     "data": {
      "text/plain": [
       "array([[0.77428828, 0.0039206 , 0.84301594],\n",
       "       [0.71741674, 0.37250919, 0.64397224]])"
      ]
     },
     "execution_count": 41,
     "metadata": {},
     "output_type": "execute_result"
    }
   ],
   "source": [
    "m9"
   ]
  },
  {
   "cell_type": "code",
   "execution_count": 42,
   "id": "ec3a4b6f",
   "metadata": {},
   "outputs": [
    {
     "data": {
      "text/plain": [
       "array([0.50436362, 0.82997827, 0.59336152])"
      ]
     },
     "execution_count": 42,
     "metadata": {},
     "output_type": "execute_result"
    }
   ],
   "source": [
    "g"
   ]
  },
  {
   "cell_type": "code",
   "execution_count": 43,
   "id": "56ec7d7b",
   "metadata": {},
   "outputs": [
    {
     "data": {
      "text/plain": [
       "array([0.89399007, 1.05312178])"
      ]
     },
     "execution_count": 43,
     "metadata": {},
     "output_type": "execute_result"
    }
   ],
   "source": [
    "np.dot(m9, g)"
   ]
  },
  {
   "cell_type": "code",
   "execution_count": 44,
   "id": "a91833e9",
   "metadata": {},
   "outputs": [],
   "source": [
    "#12\n",
    "m10 = np.random.randint(1, 11, size=(2, 2))\n",
    "m11 = np.random.randint(1, 11, size=(2, 2))"
   ]
  },
  {
   "cell_type": "code",
   "execution_count": 45,
   "id": "993a8ba7",
   "metadata": {},
   "outputs": [
    {
     "data": {
      "text/plain": [
       "array([[ 1,  8],\n",
       "       [ 5, 10]])"
      ]
     },
     "execution_count": 45,
     "metadata": {},
     "output_type": "execute_result"
    }
   ],
   "source": [
    "m10"
   ]
  },
  {
   "cell_type": "code",
   "execution_count": 46,
   "id": "1648313c",
   "metadata": {},
   "outputs": [
    {
     "data": {
      "text/plain": [
       "array([[8, 8],\n",
       "       [5, 7]])"
      ]
     },
     "execution_count": 46,
     "metadata": {},
     "output_type": "execute_result"
    }
   ],
   "source": [
    "m11"
   ]
  },
  {
   "cell_type": "code",
   "execution_count": 47,
   "id": "464d8001",
   "metadata": {},
   "outputs": [
    {
     "data": {
      "text/plain": [
       "array([[ 8, 64],\n",
       "       [25, 70]])"
      ]
     },
     "execution_count": 47,
     "metadata": {},
     "output_type": "execute_result"
    }
   ],
   "source": [
    "np.multiply(m10, m11)"
   ]
  },
  {
   "cell_type": "code",
   "execution_count": 48,
   "id": "a9f2e1b6",
   "metadata": {},
   "outputs": [],
   "source": [
    "#13\n",
    "m12 = np.random.randint(1, 11, size=(2, 2))\n",
    "m13 = np.random.randint(1, 11, size=(2, 2))"
   ]
  },
  {
   "cell_type": "code",
   "execution_count": 49,
   "id": "e3fb38ed",
   "metadata": {},
   "outputs": [
    {
     "data": {
      "text/plain": [
       "array([[ 6,  6],\n",
       "       [10,  7]])"
      ]
     },
     "execution_count": 49,
     "metadata": {},
     "output_type": "execute_result"
    }
   ],
   "source": [
    "m12"
   ]
  },
  {
   "cell_type": "code",
   "execution_count": 50,
   "id": "4a831ab6",
   "metadata": {},
   "outputs": [
    {
     "data": {
      "text/plain": [
       "array([[10,  9],\n",
       "       [ 3,  1]])"
      ]
     },
     "execution_count": 50,
     "metadata": {},
     "output_type": "execute_result"
    }
   ],
   "source": [
    "m13"
   ]
  },
  {
   "cell_type": "code",
   "execution_count": 51,
   "id": "e59f3c5c",
   "metadata": {},
   "outputs": [
    {
     "data": {
      "text/plain": [
       "array([[ 78,  60],\n",
       "       [121,  97]])"
      ]
     },
     "execution_count": 51,
     "metadata": {},
     "output_type": "execute_result"
    }
   ],
   "source": [
    "np.dot(m12, m13)"
   ]
  },
  {
   "cell_type": "code",
   "execution_count": 52,
   "id": "8f5d3ae1",
   "metadata": {},
   "outputs": [],
   "source": [
    "#14\n",
    "m14 = np.random.randint(1, 101, size=(5, 5))"
   ]
  },
  {
   "cell_type": "code",
   "execution_count": 53,
   "id": "6672ab5e",
   "metadata": {},
   "outputs": [
    {
     "data": {
      "text/plain": [
       "array([[26, 41,  4, 47, 80],\n",
       "       [98, 32,  2, 93, 65],\n",
       "       [38, 85, 29, 70, 66],\n",
       "       [69, 75,  9, 77, 51],\n",
       "       [82, 45, 57, 65, 80]])"
      ]
     },
     "execution_count": 53,
     "metadata": {},
     "output_type": "execute_result"
    }
   ],
   "source": [
    "m14"
   ]
  },
  {
   "cell_type": "code",
   "execution_count": 54,
   "id": "7fc9e279",
   "metadata": {},
   "outputs": [
    {
     "data": {
      "text/plain": [
       "1386"
      ]
     },
     "execution_count": 54,
     "metadata": {},
     "output_type": "execute_result"
    }
   ],
   "source": [
    "np.sum(m14)"
   ]
  },
  {
   "cell_type": "code",
   "execution_count": 55,
   "id": "a589061d",
   "metadata": {},
   "outputs": [],
   "source": [
    "#15\n",
    "m15 = np.random.randint(1, 11, size=(4, 4))\n",
    "m16 = np.random.randint(1, 11, size=(4, 4))"
   ]
  },
  {
   "cell_type": "code",
   "execution_count": 56,
   "id": "b15fb81f",
   "metadata": {},
   "outputs": [
    {
     "data": {
      "text/plain": [
       "array([[ 5,  8,  8,  5],\n",
       "       [10,  7,  3, 10],\n",
       "       [ 6,  1,  1,  3],\n",
       "       [ 1,  3,  8,  8]])"
      ]
     },
     "execution_count": 56,
     "metadata": {},
     "output_type": "execute_result"
    }
   ],
   "source": [
    "m15"
   ]
  },
  {
   "cell_type": "code",
   "execution_count": 57,
   "id": "ca45604e",
   "metadata": {},
   "outputs": [
    {
     "data": {
      "text/plain": [
       "array([[5, 5, 4, 4],\n",
       "       [4, 7, 2, 4],\n",
       "       [7, 9, 7, 9],\n",
       "       [7, 9, 9, 6]])"
      ]
     },
     "execution_count": 57,
     "metadata": {},
     "output_type": "execute_result"
    }
   ],
   "source": [
    "m16"
   ]
  },
  {
   "cell_type": "code",
   "execution_count": 58,
   "id": "b1c00d6e",
   "metadata": {},
   "outputs": [
    {
     "data": {
      "text/plain": [
       "array([[ 0,  3,  4,  1],\n",
       "       [ 6,  0,  1,  6],\n",
       "       [-1, -8, -6, -6],\n",
       "       [-6, -6, -1,  2]])"
      ]
     },
     "execution_count": 58,
     "metadata": {},
     "output_type": "execute_result"
    }
   ],
   "source": [
    "m15 - m16\n"
   ]
  },
  {
   "cell_type": "code",
   "execution_count": 59,
   "id": "7386f51d",
   "metadata": {},
   "outputs": [],
   "source": [
    "#16\n",
    "m17 = np.random.random(size=(3, 3))"
   ]
  },
  {
   "cell_type": "code",
   "execution_count": 60,
   "id": "a47a7dc5",
   "metadata": {},
   "outputs": [
    {
     "data": {
      "text/plain": [
       "array([[0.20185615, 0.46442079, 0.0937311 ],\n",
       "       [0.65783487, 0.09581927, 0.14661323],\n",
       "       [0.3949193 , 0.94256639, 0.35346597]])"
      ]
     },
     "execution_count": 60,
     "metadata": {},
     "output_type": "execute_result"
    }
   ],
   "source": [
    "m17"
   ]
  },
  {
   "cell_type": "code",
   "execution_count": 61,
   "id": "11ae88c6",
   "metadata": {},
   "outputs": [],
   "source": [
    "sum2 = np.sum(m17, axis=1)"
   ]
  },
  {
   "cell_type": "code",
   "execution_count": 62,
   "id": "79e7bd5b",
   "metadata": {},
   "outputs": [
    {
     "data": {
      "text/plain": [
       "array([0.76000804, 0.90026737, 1.69095166])"
      ]
     },
     "execution_count": 62,
     "metadata": {},
     "output_type": "execute_result"
    }
   ],
   "source": [
    "sum2"
   ]
  },
  {
   "cell_type": "code",
   "execution_count": 63,
   "id": "6abeb2ab",
   "metadata": {},
   "outputs": [
    {
     "data": {
      "text/plain": [
       "array([[0.76000804],\n",
       "       [0.90026737],\n",
       "       [1.69095166]])"
      ]
     },
     "execution_count": 63,
     "metadata": {},
     "output_type": "execute_result"
    }
   ],
   "source": [
    "sum2.reshape(3, 1)"
   ]
  },
  {
   "cell_type": "code",
   "execution_count": 64,
   "id": "b9484ff4",
   "metadata": {},
   "outputs": [],
   "source": [
    "#17\n",
    "m18 = np.random.randint(1, 11, size=(3, 4))"
   ]
  },
  {
   "cell_type": "code",
   "execution_count": 65,
   "id": "45c91db5",
   "metadata": {},
   "outputs": [
    {
     "data": {
      "text/plain": [
       "array([[ 1,  1,  7,  9],\n",
       "       [ 6,  1,  7,  7],\n",
       "       [ 6, 10,  1,  6]])"
      ]
     },
     "execution_count": 65,
     "metadata": {},
     "output_type": "execute_result"
    }
   ],
   "source": [
    "m18\n"
   ]
  },
  {
   "cell_type": "code",
   "execution_count": 66,
   "id": "75be7358",
   "metadata": {},
   "outputs": [
    {
     "data": {
      "text/plain": [
       "array([[  1,   1,  49,  81],\n",
       "       [ 36,   1,  49,  49],\n",
       "       [ 36, 100,   1,  36]])"
      ]
     },
     "execution_count": 66,
     "metadata": {},
     "output_type": "execute_result"
    }
   ],
   "source": [
    "m18 ** 2"
   ]
  },
  {
   "cell_type": "code",
   "execution_count": 67,
   "id": "51349368",
   "metadata": {},
   "outputs": [],
   "source": [
    "#18\n",
    "h = np.random.randint(1, 51, size=4)"
   ]
  },
  {
   "cell_type": "code",
   "execution_count": 68,
   "id": "842aea4a",
   "metadata": {},
   "outputs": [
    {
     "data": {
      "text/plain": [
       "array([ 9, 15,  3, 49])"
      ]
     },
     "execution_count": 68,
     "metadata": {},
     "output_type": "execute_result"
    }
   ],
   "source": [
    "h"
   ]
  },
  {
   "cell_type": "code",
   "execution_count": 69,
   "id": "5bcec929",
   "metadata": {},
   "outputs": [
    {
     "data": {
      "text/plain": [
       "array([3.        , 3.87298335, 1.73205081, 7.        ])"
      ]
     },
     "execution_count": 69,
     "metadata": {},
     "output_type": "execute_result"
    }
   ],
   "source": [
    "h ** 0.5"
   ]
  },
  {
   "cell_type": "code",
   "execution_count": null,
   "id": "ad485cb6",
   "metadata": {},
   "outputs": [],
   "source": []
  },
  {
   "cell_type": "code",
   "execution_count": null,
   "id": "358cfa3f",
   "metadata": {},
   "outputs": [],
   "source": []
  }
 ],
 "metadata": {
  "kernelspec": {
   "display_name": "Python 3 (ipykernel)",
   "language": "python",
   "name": "python3"
  },
  "language_info": {
   "codemirror_mode": {
    "name": "ipython",
    "version": 3
   },
   "file_extension": ".py",
   "mimetype": "text/x-python",
   "name": "python",
   "nbconvert_exporter": "python",
   "pygments_lexer": "ipython3",
   "version": "3.10.7"
  }
 },
 "nbformat": 4,
 "nbformat_minor": 5
}
